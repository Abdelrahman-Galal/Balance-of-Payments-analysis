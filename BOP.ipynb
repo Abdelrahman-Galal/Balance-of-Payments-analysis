{
 "cells": [
  {
   "cell_type": "markdown",
   "metadata": {},
   "source": [
    "#  Balance of Payment  - Current Account Study"
   ]
  },
  {
   "cell_type": "markdown",
   "metadata": {
    "colab_type": "text",
    "id": "D_PV7bzHgMws"
   },
   "source": [
    "**Balance Of Payment (BOP)**\n",
    "\n",
    "The balance of payments (BOP) is a statement of all transactions made between entities in one country and the rest of the world over a defined period of time, such as a quarter or a year.\n",
    "\n",
    "The balance of payments divides transactions in two accounts: the *current account* and the *capital account*.The current account which is analysed here  includes transactions in goods, services, investment income, and current transfers. The capital account, broadly defined, includes transactions in financial instruments and central bank reserves.\n",
    "\n",
    "**Current Account**\n",
    "\n",
    "The current account deals with a country's short-term transactions or the difference between its savings and investments. These are also referred to as actual transactions (as they have a real impact on income), output and employment levels through the movement of goods and services in the economy.\n",
    "Transactions are recorded in the current account in the following ways:\n",
    "\n",
    "    \n",
    "\n",
    "*   Exports are noted as credits in the balance of payments\n",
    "   \n",
    "*   Imports are recorded as debits in the balance of payments\n",
    "\n",
    "\n",
    "\n",
    "**Deficit and Surplus**\n",
    "\n",
    "A deficit is an amount by which a resource, especially money, falls short of what is required. A deficit occurs when expenses exceed revenues, imports exceed exports, or liabilities exceed assets. A deficit is synonymous with shortfall or loss and is the opposite of a surplus.\n",
    "\n",
    "\n",
    "\n",
    "\n"
   ]
  },
  {
   "cell_type": "code",
   "execution_count": 1,
   "metadata": {
    "colab": {
     "base_uri": "https://localhost:8080/",
     "height": 74
    },
    "colab_type": "code",
    "id": "6ZhFesXPAZbY",
    "outputId": "cf1eca1d-788d-4b46-ffcb-28458c4f2e3f"
   },
   "outputs": [],
   "source": [
    "#import section for pandas \n",
    "import pandas as pd\n",
    "import numpy as np\n",
    "%matplotlib inline\n",
    "import matplotlib.pyplot as plt\n",
    "import seaborn as sns"
   ]
  },
  {
   "cell_type": "markdown",
   "metadata": {
    "colab_type": "text",
    "id": "WuubCYX4nX0l"
   },
   "source": [
    "**Data**\n",
    "\n",
    "The dataset source is [Organisation for Economic Co-operation and Development](https://stats.oecd.org/#).The data is exported with a time period between (1990-2018) in .CSV format for OECD countires only and with Annual frequency.Further filters will be applied along the way."
   ]
  },
  {
   "cell_type": "code",
   "execution_count": 2,
   "metadata": {
    "colab": {},
    "colab_type": "code",
    "id": "O7QVKpmYAkYW"
   },
   "outputs": [],
   "source": [
    "#Read .csv file\n",
    "df = pd.read_csv('BOP.csv')"
   ]
  },
  {
   "cell_type": "code",
   "execution_count": 3,
   "metadata": {
    "colab": {
     "base_uri": "https://localhost:8080/",
     "height": 36
    },
    "colab_type": "code",
    "id": "yDRAcn66B6kZ",
    "outputId": "29d9a4a5-f7ec-4bc6-f027-21e1580fdbe5"
   },
   "outputs": [
    {
     "data": {
      "text/plain": [
       "(83089, 17)"
      ]
     },
     "execution_count": 3,
     "metadata": {},
     "output_type": "execute_result"
    }
   ],
   "source": [
    "\n",
    "df.shape"
   ]
  },
  {
   "cell_type": "markdown",
   "metadata": {
    "colab_type": "text",
    "id": "ZPVP3Wkqo-L2"
   },
   "source": [
    "The original data consists of 83,089 rows and 17 columns."
   ]
  },
  {
   "cell_type": "code",
   "execution_count": 4,
   "metadata": {
    "colab": {
     "base_uri": "https://localhost:8080/",
     "height": 467
    },
    "colab_type": "code",
    "id": "ZssnzShQGGk5",
    "outputId": "4a33550d-4449-4aa9-fb55-bd03e2fc8735"
   },
   "outputs": [
    {
     "name": "stdout",
     "output_type": "stream",
     "text": [
      "<class 'pandas.core.frame.DataFrame'>\n",
      "RangeIndex: 83089 entries, 0 to 83088\n",
      "Data columns (total 17 columns):\n",
      "SUBJECT                  83089 non-null object\n",
      "Subject                  83089 non-null object\n",
      "LOCATION                 83089 non-null object\n",
      "Country                  83089 non-null object\n",
      "MEASURE                  83089 non-null object\n",
      "Measure                  83089 non-null object\n",
      "FREQUENCY                83089 non-null object\n",
      "Frequency                83089 non-null object\n",
      "TIME                     83089 non-null int64\n",
      "Time                     83089 non-null int64\n",
      "Unit Code                83089 non-null object\n",
      "Unit                     83089 non-null object\n",
      "PowerCode Code           83089 non-null int64\n",
      "PowerCode                83089 non-null object\n",
      "Reference Period Code    0 non-null float64\n",
      "Reference Period         0 non-null float64\n",
      "Value                    83089 non-null float64\n",
      "dtypes: float64(3), int64(3), object(11)\n",
      "memory usage: 7.3+ MB\n"
     ]
    }
   ],
   "source": [
    "df.info()"
   ]
  },
  {
   "cell_type": "markdown",
   "metadata": {
    "colab_type": "text",
    "id": "l5UX8c5ipnPs"
   },
   "source": [
    "The dataset consists of 17 cloumns in a form of pairs (code and discription) and the last columns shows the values of the account\n"
   ]
  },
  {
   "cell_type": "code",
   "execution_count": 5,
   "metadata": {
    "colab": {
     "base_uri": "https://localhost:8080/",
     "height": 236
    },
    "colab_type": "code",
    "id": "CtahaEXwGasE",
    "outputId": "5eae76ca-11d3-4eb6-e511-74c15bbff0a5"
   },
   "outputs": [
    {
     "data": {
      "text/html": [
       "<div>\n",
       "<style scoped>\n",
       "    .dataframe tbody tr th:only-of-type {\n",
       "        vertical-align: middle;\n",
       "    }\n",
       "\n",
       "    .dataframe tbody tr th {\n",
       "        vertical-align: top;\n",
       "    }\n",
       "\n",
       "    .dataframe thead th {\n",
       "        text-align: right;\n",
       "    }\n",
       "</style>\n",
       "<table border=\"1\" class=\"dataframe\">\n",
       "  <thead>\n",
       "    <tr style=\"text-align: right;\">\n",
       "      <th></th>\n",
       "      <th>SUBJECT</th>\n",
       "      <th>Subject</th>\n",
       "      <th>LOCATION</th>\n",
       "      <th>Country</th>\n",
       "      <th>MEASURE</th>\n",
       "      <th>Measure</th>\n",
       "      <th>FREQUENCY</th>\n",
       "      <th>Frequency</th>\n",
       "      <th>TIME</th>\n",
       "      <th>Time</th>\n",
       "      <th>Unit Code</th>\n",
       "      <th>Unit</th>\n",
       "      <th>PowerCode Code</th>\n",
       "      <th>PowerCode</th>\n",
       "      <th>Reference Period Code</th>\n",
       "      <th>Reference Period</th>\n",
       "      <th>Value</th>\n",
       "    </tr>\n",
       "  </thead>\n",
       "  <tbody>\n",
       "    <tr>\n",
       "      <td>0</td>\n",
       "      <td>B6BLTT01</td>\n",
       "      <td>Current account, balance</td>\n",
       "      <td>CAN</td>\n",
       "      <td>Canada</td>\n",
       "      <td>NCCU</td>\n",
       "      <td>National Currency</td>\n",
       "      <td>A</td>\n",
       "      <td>Annual</td>\n",
       "      <td>1990</td>\n",
       "      <td>1990</td>\n",
       "      <td>CAD</td>\n",
       "      <td>Canadian Dollar</td>\n",
       "      <td>6</td>\n",
       "      <td>Millions</td>\n",
       "      <td>NaN</td>\n",
       "      <td>NaN</td>\n",
       "      <td>-23871.0</td>\n",
       "    </tr>\n",
       "    <tr>\n",
       "      <td>1</td>\n",
       "      <td>B6BLTT01</td>\n",
       "      <td>Current account, balance</td>\n",
       "      <td>CAN</td>\n",
       "      <td>Canada</td>\n",
       "      <td>NCCU</td>\n",
       "      <td>National Currency</td>\n",
       "      <td>A</td>\n",
       "      <td>Annual</td>\n",
       "      <td>1991</td>\n",
       "      <td>1991</td>\n",
       "      <td>CAD</td>\n",
       "      <td>Canadian Dollar</td>\n",
       "      <td>6</td>\n",
       "      <td>Millions</td>\n",
       "      <td>NaN</td>\n",
       "      <td>NaN</td>\n",
       "      <td>-26174.0</td>\n",
       "    </tr>\n",
       "  </tbody>\n",
       "</table>\n",
       "</div>"
      ],
      "text/plain": [
       "    SUBJECT                   Subject LOCATION Country MEASURE  \\\n",
       "0  B6BLTT01  Current account, balance      CAN  Canada    NCCU   \n",
       "1  B6BLTT01  Current account, balance      CAN  Canada    NCCU   \n",
       "\n",
       "             Measure FREQUENCY Frequency  TIME  Time Unit Code  \\\n",
       "0  National Currency         A    Annual  1990  1990       CAD   \n",
       "1  National Currency         A    Annual  1991  1991       CAD   \n",
       "\n",
       "              Unit  PowerCode Code PowerCode  Reference Period Code  \\\n",
       "0  Canadian Dollar               6  Millions                    NaN   \n",
       "1  Canadian Dollar               6  Millions                    NaN   \n",
       "\n",
       "   Reference Period    Value  \n",
       "0               NaN -23871.0  \n",
       "1               NaN -26174.0  "
      ]
     },
     "execution_count": 5,
     "metadata": {},
     "output_type": "execute_result"
    }
   ],
   "source": [
    "df.head(2)"
   ]
  },
  {
   "cell_type": "markdown",
   "metadata": {
    "colab_type": "text",
    "id": "uX3jQIQYqImN"
   },
   "source": [
    "The next step is to rename the labels of the columns so it can be easily used in the code by replacing space with underscore and giving more meangiful names to columns."
   ]
  },
  {
   "cell_type": "code",
   "execution_count": 6,
   "metadata": {
    "colab": {
     "base_uri": "https://localhost:8080/",
     "height": 236
    },
    "colab_type": "code",
    "id": "WjuGFzJyVtwT",
    "outputId": "3673730a-dac8-4561-98b2-de94e8d5e757"
   },
   "outputs": [
    {
     "data": {
      "text/html": [
       "<div>\n",
       "<style scoped>\n",
       "    .dataframe tbody tr th:only-of-type {\n",
       "        vertical-align: middle;\n",
       "    }\n",
       "\n",
       "    .dataframe tbody tr th {\n",
       "        vertical-align: top;\n",
       "    }\n",
       "\n",
       "    .dataframe thead th {\n",
       "        text-align: right;\n",
       "    }\n",
       "</style>\n",
       "<table border=\"1\" class=\"dataframe\">\n",
       "  <thead>\n",
       "    <tr style=\"text-align: right;\">\n",
       "      <th></th>\n",
       "      <th>Subject_Code</th>\n",
       "      <th>Subject</th>\n",
       "      <th>Country_Code</th>\n",
       "      <th>Country</th>\n",
       "      <th>Measure_Code</th>\n",
       "      <th>Measure</th>\n",
       "      <th>Frequency_Code</th>\n",
       "      <th>Frequency</th>\n",
       "      <th>TIME</th>\n",
       "      <th>Time</th>\n",
       "      <th>Unit_Code</th>\n",
       "      <th>Unit</th>\n",
       "      <th>PowerCode Code</th>\n",
       "      <th>PowerCode</th>\n",
       "      <th>Reference Period Code</th>\n",
       "      <th>Reference Period</th>\n",
       "      <th>Value</th>\n",
       "    </tr>\n",
       "  </thead>\n",
       "  <tbody>\n",
       "    <tr>\n",
       "      <td>0</td>\n",
       "      <td>B6BLTT01</td>\n",
       "      <td>Current account, balance</td>\n",
       "      <td>CAN</td>\n",
       "      <td>Canada</td>\n",
       "      <td>NCCU</td>\n",
       "      <td>National Currency</td>\n",
       "      <td>A</td>\n",
       "      <td>Annual</td>\n",
       "      <td>1990</td>\n",
       "      <td>1990</td>\n",
       "      <td>CAD</td>\n",
       "      <td>Canadian Dollar</td>\n",
       "      <td>6</td>\n",
       "      <td>Millions</td>\n",
       "      <td>NaN</td>\n",
       "      <td>NaN</td>\n",
       "      <td>-23871.0</td>\n",
       "    </tr>\n",
       "    <tr>\n",
       "      <td>1</td>\n",
       "      <td>B6BLTT01</td>\n",
       "      <td>Current account, balance</td>\n",
       "      <td>CAN</td>\n",
       "      <td>Canada</td>\n",
       "      <td>NCCU</td>\n",
       "      <td>National Currency</td>\n",
       "      <td>A</td>\n",
       "      <td>Annual</td>\n",
       "      <td>1991</td>\n",
       "      <td>1991</td>\n",
       "      <td>CAD</td>\n",
       "      <td>Canadian Dollar</td>\n",
       "      <td>6</td>\n",
       "      <td>Millions</td>\n",
       "      <td>NaN</td>\n",
       "      <td>NaN</td>\n",
       "      <td>-26174.0</td>\n",
       "    </tr>\n",
       "  </tbody>\n",
       "</table>\n",
       "</div>"
      ],
      "text/plain": [
       "  Subject_Code                   Subject Country_Code Country Measure_Code  \\\n",
       "0     B6BLTT01  Current account, balance          CAN  Canada         NCCU   \n",
       "1     B6BLTT01  Current account, balance          CAN  Canada         NCCU   \n",
       "\n",
       "             Measure Frequency_Code Frequency  TIME  Time Unit_Code  \\\n",
       "0  National Currency              A    Annual  1990  1990       CAD   \n",
       "1  National Currency              A    Annual  1991  1991       CAD   \n",
       "\n",
       "              Unit  PowerCode Code PowerCode  Reference Period Code  \\\n",
       "0  Canadian Dollar               6  Millions                    NaN   \n",
       "1  Canadian Dollar               6  Millions                    NaN   \n",
       "\n",
       "   Reference Period    Value  \n",
       "0               NaN -23871.0  \n",
       "1               NaN -26174.0  "
      ]
     },
     "execution_count": 6,
     "metadata": {},
     "output_type": "execute_result"
    }
   ],
   "source": [
    "df.rename(columns={'SUBJECT':'Subject_Code','LOCATION':'Country_Code','FREQUENCY':'Frequency_Code','Unit Code':'Unit_Code','MEASURE':'Measure_Code'},inplace=True )\n",
    "df.head(2)"
   ]
  },
  {
   "cell_type": "markdown",
   "metadata": {
    "colab_type": "text",
    "id": "M_jr0WwqrFed"
   },
   "source": [
    "In the next section , the data is explored to show what countries along with its codes,the currency of the values and different accounts.The countires contains an entry of \"*European Union (28 countries)*\" with code \"*EU28*\" , This will be used through our analysis."
   ]
  },
  {
   "cell_type": "code",
   "execution_count": 7,
   "metadata": {
    "colab": {
     "base_uri": "https://localhost:8080/",
     "height": 710
    },
    "colab_type": "code",
    "id": "uuW1aWwcj2ip",
    "outputId": "6c86c012-6ec4-4442-d504-f4f3eadb1692"
   },
   "outputs": [
    {
     "data": {
      "text/plain": [
       "{'CAN': 'Canada',\n",
       " 'KOR': 'Korea',\n",
       " 'USA': 'United States',\n",
       " 'AUS': 'Australia',\n",
       " 'JPN': 'Japan',\n",
       " 'CHE': 'Switzerland',\n",
       " 'NZL': 'New Zealand',\n",
       " 'CHL': 'Chile',\n",
       " 'EST': 'Estonia',\n",
       " 'AUT': 'Austria',\n",
       " 'ITA': 'Italy',\n",
       " 'CZE': 'Czech Republic',\n",
       " 'SVK': 'Slovak Republic',\n",
       " 'FRA': 'France',\n",
       " 'PRT': 'Portugal',\n",
       " 'GBR': 'United Kingdom',\n",
       " 'LVA': 'Latvia',\n",
       " 'NLD': 'Netherlands',\n",
       " 'DEU': 'Germany',\n",
       " 'IRL': 'Ireland',\n",
       " 'ISL': 'Iceland',\n",
       " 'BEL': 'Belgium',\n",
       " 'LUX': 'Luxembourg',\n",
       " 'SVN': 'Slovenia',\n",
       " 'HUN': 'Hungary',\n",
       " 'FIN': 'Finland',\n",
       " 'GRC': 'Greece',\n",
       " 'NOR': 'Norway',\n",
       " 'DNK': 'Denmark',\n",
       " 'ESP': 'Spain',\n",
       " 'POL': 'Poland',\n",
       " 'TUR': 'Turkey',\n",
       " 'SWE': 'Sweden',\n",
       " 'ISR': 'Israel',\n",
       " 'LTU': 'Lithuania',\n",
       " 'EU28': 'European Union (28 countries)',\n",
       " 'MEX': 'Mexico'}"
      ]
     },
     "execution_count": 7,
     "metadata": {},
     "output_type": "execute_result"
    }
   ],
   "source": [
    "# Explore available countires and corresponding coutnry codes\n",
    "pd.Series(df.Country.values,index=df.Country_Code).to_dict()"
   ]
  },
  {
   "cell_type": "code",
   "execution_count": 8,
   "metadata": {
    "colab": {
     "base_uri": "https://localhost:8080/",
     "height": 92
    },
    "colab_type": "code",
    "id": "ULe5hh1eu3jQ",
    "outputId": "d4b96bde-0681-4f39-8d94-1a948e213dea"
   },
   "outputs": [
    {
     "data": {
      "text/plain": [
       "{'NCCU': 'National Currency',\n",
       " 'CXCU': 'US-Dollar converted',\n",
       " 'NCCUSA': 'National Currency, Seasonally adjusted',\n",
       " 'CXCUSA': 'US-Dollar converted, Seasonally adjusted'}"
      ]
     },
     "execution_count": 8,
     "metadata": {},
     "output_type": "execute_result"
    }
   ],
   "source": [
    "# Explore available measure and corresponding measure codes\n",
    "pd.Series(df.Measure.values,index=df.Measure_Code).to_dict()"
   ]
  },
  {
   "cell_type": "code",
   "execution_count": 9,
   "metadata": {
    "colab": {
     "base_uri": "https://localhost:8080/",
     "height": 860
    },
    "colab_type": "code",
    "id": "FS1nx_9XtHyu",
    "outputId": "51dc8d95-0860-41de-c40a-07156d6902a8"
   },
   "outputs": [
    {
     "data": {
      "text/plain": [
       "{'B6CATT00': 'Capital account, balance',\n",
       " 'B6CACR00': 'Capital account, credits',\n",
       " 'B6CADB00': 'Capital account, debits',\n",
       " 'B6CATT02': 'Capital transfers, balance',\n",
       " 'B6CACR02': 'Capital transfers, credits',\n",
       " 'B6CADB02': 'Capital transfers, debits',\n",
       " 'B6BLTT01': 'Current account, balance',\n",
       " 'B6CRTT01': 'Current account, credits',\n",
       " 'B6DBTT01': 'Current account, debits',\n",
       " 'B6FADI01': 'Direct investment, net',\n",
       " 'B6FADI02': 'Direct investment, net acquisition of financial assets',\n",
       " 'B6FADI03': 'Direct investment, net incurrence of liabilities',\n",
       " 'B6FATT01': 'Financial account, net',\n",
       " 'B6FATC01': 'Financial account, net acquisition of financial assets',\n",
       " 'B6FATD01': 'Financial account, net incurrence of liabilities',\n",
       " 'B6FAFD01': 'Financial derivatives, net',\n",
       " 'B6BLTD21': 'Goods acquired under merchanting (negative credits), balance',\n",
       " 'B6CRTD21': 'Goods acquired under merchanting (negative credits), credits',\n",
       " 'B6BLTD22': 'Goods sold under merchanting, balance',\n",
       " 'B6CRTD22': 'Goods sold under merchanting, credits',\n",
       " 'B6BLTD01': 'Goods, balance',\n",
       " 'B6CRTD01': 'Goods, credits (exports)',\n",
       " 'B6DBTD01': 'Goods, debits (imports)',\n",
       " 'B6CADB01': 'Gross acquisitions of non-produced non-financial assets, debits',\n",
       " 'B6CATT01': 'Gross acquisitions/disposals of non-produced non-financial assets, balance',\n",
       " 'B6CACR01': 'Gross disposals of non-produced non-financial assets, credits',\n",
       " 'B6EOTT01': 'Net errors and omissions',\n",
       " 'B6BLTD20': 'Net export of goods under merchanting, balance',\n",
       " 'B6CRTD20': 'Net export of goods under merchanting, credits',\n",
       " 'B6FAOI01': 'Other investment, net',\n",
       " 'B6FAOI02': 'Other investment, net acquisition of financial assets',\n",
       " 'B6FAOI03': 'Other investment, net incurrence of liabilities',\n",
       " 'B6FAPI10': 'Portfolio investment, net',\n",
       " 'B6FAPI02': 'Portfolio investment, net acquisition of financial assets',\n",
       " 'B6FAPI03': 'Portfolio investment, net incurrence of liabilities',\n",
       " 'B6BLPI01': 'Primary income, balance',\n",
       " 'B6CRPI01': 'Primary income, credits',\n",
       " 'B6DBPI01': 'Primary income, debits',\n",
       " 'B6FARA01': 'Reserve assets, net acquisition of financial assets',\n",
       " 'B6BLSI01': 'Secondary income, balance',\n",
       " 'B6CRSI01': 'Secondary income, credits',\n",
       " 'B6DBSI01': 'Secondary income, debits',\n",
       " 'B6BLSE01': 'Services, balance',\n",
       " 'B6CRSE01': 'Services, credits',\n",
       " 'B6DBSE01': 'Services, debits'}"
      ]
     },
     "execution_count": 9,
     "metadata": {},
     "output_type": "execute_result"
    }
   ],
   "source": [
    "# Explore available balances and corresponding balances codes\n",
    "pd.Series(df.Subject.values,index=df.Subject_Code).sort_values().to_dict()"
   ]
  },
  {
   "cell_type": "markdown",
   "metadata": {
    "colab_type": "text",
    "id": "O-vyEWS5rvo0"
   },
   "source": [
    "\n",
    "*   The next section is about filtering data by current account, balance, debits and credits for all countries. Debits and credits will be used to assess the import and export,respectively.In addition to that, data is filtered to be measured with \"USD, seasonally adjusted\" which has code \"CXCUSA\".\n",
    "\n",
    "\n",
    "\n",
    "\n",
    "\n"
   ]
  },
  {
   "cell_type": "code",
   "execution_count": 10,
   "metadata": {
    "colab": {},
    "colab_type": "code",
    "id": "P9oi7Du2momz"
   },
   "outputs": [],
   "source": [
    "#Dataframe for all current accounts (debits,credit,balance) of all OECD countries in adjusted USD\n",
    "df_current_all_countires = df[ (df['Subject'].str.contains('Current account')) \\\n",
    "                              & ( df['Measure_Code'] == 'CXCUSA')].iloc[:,np.r_[0:7,9:13,16]]"
   ]
  },
  {
   "cell_type": "markdown",
   "metadata": {
    "colab_type": "text",
    "id": "CSvzqR-PZZhE"
   },
   "source": [
    "*   The second dataset is drived from the first one - df_current_all_countires - but contains individal countries of EU."
   ]
  },
  {
   "cell_type": "code",
   "execution_count": 11,
   "metadata": {
    "colab": {},
    "colab_type": "code",
    "id": "VkimxmPDZgLT"
   },
   "outputs": [],
   "source": [
    "#List of the EU countires in the data\n",
    "EU_Countires = ['AUT','BEL','CZE','DNK','EST','FIN','FRA','DEU','GBR','GRC','HUN','IRL','ITA',\\\n",
    "                'LVA','LUX','LTU','NLD','POL','PRT','SVK','SVN','SWE','ESP']\n",
    "#Dataframe for all current accounts (debits,credit,balance) of all EU countires in the above list in adjusted USD\n",
    "df_current_EU_countires = df_current_all_countires[(df_current_all_countires['Country_Code'].isin(EU_Countires))]"
   ]
  },
  {
   "cell_type": "markdown",
   "metadata": {
    "colab_type": "text",
    "id": "OCnF8n18Zknl"
   },
   "source": [
    "\n",
    "*   The third dataset is drived from the first one - df_current_all_countires - but contains EU28 only.\n",
    "\n"
   ]
  },
  {
   "cell_type": "code",
   "execution_count": 12,
   "metadata": {
    "colab": {},
    "colab_type": "code",
    "id": "e4-9dRUzZpij"
   },
   "outputs": [],
   "source": [
    "#Dataframe for all current accounts (debits,credit,balance ) of EU28 in adjusted USD\n",
    "df_current_EU28 = df_current_all_countires[(df_current_all_countires['Country_Code'] == \"EU28\")]\\\n",
    ".sort_values(by='Time').reset_index(drop=True)"
   ]
  },
  {
   "cell_type": "code",
   "execution_count": 13,
   "metadata": {
    "colab": {},
    "colab_type": "code",
    "id": "-GGkhEiSofiv"
   },
   "outputs": [],
   "source": [
    "#Filter to contains only \"Current account, balance\"\n",
    "df_current_EU_countires_balance = df_current_EU_countires.query('Subject == \"Current account, balance\"')\n",
    "df_current_EU28_balance = df_current_EU28.query('Subject == \"Current account, balance\"')\n"
   ]
  },
  {
   "cell_type": "markdown",
   "metadata": {
    "colab_type": "text",
    "id": "Yu2dQtQ7bBMe"
   },
   "source": [
    "The first data quality issue that can be observed here is that 23 out of the 28 countries of EU is presented in data.There are 5 missing  countries which are (Bulgaria,Croatia,Cyprus,Malta,Romania)\n",
    "\n"
   ]
  },
  {
   "cell_type": "code",
   "execution_count": 14,
   "metadata": {
    "colab": {
     "base_uri": "https://localhost:8080/",
     "height": 36
    },
    "colab_type": "code",
    "id": "k9finUK_bAUo",
    "outputId": "3b9db3ad-bb9a-4ce9-fe5c-f5db7de4585d"
   },
   "outputs": [
    {
     "data": {
      "text/plain": [
       "23"
      ]
     },
     "execution_count": 14,
     "metadata": {},
     "output_type": "execute_result"
    }
   ],
   "source": [
    "len(EU_Countires)"
   ]
  },
  {
   "cell_type": "markdown",
   "metadata": {
    "colab_type": "text",
    "id": "JjXv5xVjmqZN"
   },
   "source": [
    "The second data quality issue is the missing data.29 rows for each country are expected between(1990-2018),  Only United Kingdom and Sweden have that number of data rows as shown below.\n"
   ]
  },
  {
   "cell_type": "code",
   "execution_count": 15,
   "metadata": {
    "colab": {
     "base_uri": "https://localhost:8080/",
     "height": 485
    },
    "colab_type": "code",
    "id": "mjXK-bXCn4Lz",
    "outputId": "e6ef70d8-9a30-45f3-8039-82eebe760da7"
   },
   "outputs": [
    {
     "data": {
      "text/plain": [
       "Country\n",
       "United Kingdom     29\n",
       "Sweden             29\n",
       "Germany            28\n",
       "Spain              26\n",
       "Czech Republic     26\n",
       "Estonia            26\n",
       "Finland            24\n",
       "Hungary            24\n",
       "Italy              24\n",
       "Luxembourg         24\n",
       "Slovenia           24\n",
       "Austria            24\n",
       "Portugal           23\n",
       "France             20\n",
       "Latvia             19\n",
       "Ireland            17\n",
       "Greece             17\n",
       "Belgium            16\n",
       "Lithuania          15\n",
       "Netherlands        15\n",
       "Poland             15\n",
       "Slovak Republic    15\n",
       "Denmark            14\n",
       "Name: Time, dtype: int64"
      ]
     },
     "execution_count": 15,
     "metadata": {},
     "output_type": "execute_result"
    }
   ],
   "source": [
    "df_current_EU_countires_balance.groupby('Country')['Time'].count().sort_values(ascending=False)"
   ]
  },
  {
   "cell_type": "markdown",
   "metadata": {
    "colab_type": "text",
    "id": "2MLDXb_nrHAM"
   },
   "source": [
    "The same issue exists for EU28 where only data from 1999 to 2018 can be found"
   ]
  },
  {
   "cell_type": "code",
   "execution_count": 16,
   "metadata": {
    "colab": {
     "base_uri": "https://localhost:8080/",
     "height": 36
    },
    "colab_type": "code",
    "id": "0MZYpErm3eB1",
    "outputId": "de7b80af-941a-4551-ddca-e5a4e470439d"
   },
   "outputs": [
    {
     "name": "stdout",
     "output_type": "stream",
     "text": [
      "Minumim year is 1999 ,While Maximum year is 2018 \n"
     ]
    }
   ],
   "source": [
    "print(f\"Minumim year is {df_current_EU28_balance.Time.min()} ,While Maximum year is {df_current_EU28_balance.Time.max()} \")"
   ]
  },
  {
   "cell_type": "markdown",
   "metadata": {
    "colab_type": "text",
    "id": "OgBhlTcF5V6j"
   },
   "source": [
    "The next section analyzes the current account balance of EU28.This analysis used to compare the aggregated total of all the 28 countries of the EU with EU28 in the period between 1999-2018 as data is missing before that date. The result shows that the total balances are different. This could be correct in the duration between 1999-2004 before the EU enlargement, but after 2004 the data should be matched. This is not what the data shows which could be considered as the third data quality issue."
   ]
  },
  {
   "cell_type": "code",
   "execution_count": 17,
   "metadata": {
    "colab": {
     "base_uri": "https://localhost:8080/",
     "height": 36
    },
    "colab_type": "code",
    "id": "ST073hnErHqV",
    "outputId": "14822a47-1d10-4faf-ba00-cf7001c9141b"
   },
   "outputs": [
    {
     "data": {
      "text/plain": [
       "False"
      ]
     },
     "execution_count": 17,
     "metadata": {},
     "output_type": "execute_result"
    }
   ],
   "source": [
    "(df_current_EU_countires_balance.query('Time >=1999')\\\n",
    " .groupby('Time').Value.sum() == df_current_EU28_balance.groupby('Time').Value.sum()).any()\n"
   ]
  },
  {
   "cell_type": "markdown",
   "metadata": {
    "colab_type": "text",
    "id": "hezofAXX6_Fg"
   },
   "source": [
    "**Exploring and Cleaning the data**"
   ]
  },
  {
   "cell_type": "code",
   "execution_count": 18,
   "metadata": {
    "colab": {
     "base_uri": "https://localhost:8080/",
     "height": 261
    },
    "colab_type": "code",
    "id": "OPhbAa4DHDwP",
    "outputId": "33042991-620d-4750-99d8-4bb2c112d8b9"
   },
   "outputs": [
    {
     "data": {
      "text/plain": [
       "Subject_Code      0\n",
       "Subject           0\n",
       "Country_Code      0\n",
       "Country           0\n",
       "Measure_Code      0\n",
       "Measure           0\n",
       "Frequency_Code    0\n",
       "Time              0\n",
       "Unit_Code         0\n",
       "Unit              0\n",
       "PowerCode Code    0\n",
       "Value             0\n",
       "dtype: int64"
      ]
     },
     "execution_count": 18,
     "metadata": {},
     "output_type": "execute_result"
    }
   ],
   "source": [
    "#EU28 Data Frame has no NA values\n",
    "df_current_EU28.isna().sum()"
   ]
  },
  {
   "cell_type": "code",
   "execution_count": 19,
   "metadata": {
    "colab": {
     "base_uri": "https://localhost:8080/",
     "height": 36
    },
    "colab_type": "code",
    "id": "CNGibo3z3Bke",
    "outputId": "b8c3cea7-3f12-4faf-80f4-4745e5f6e58b"
   },
   "outputs": [
    {
     "data": {
      "text/plain": [
       "0"
      ]
     },
     "execution_count": 19,
     "metadata": {},
     "output_type": "execute_result"
    }
   ],
   "source": [
    "#EU28 Data Frame has no duplicated values\n",
    "df_current_EU28.duplicated().sum()"
   ]
  },
  {
   "cell_type": "code",
   "execution_count": 20,
   "metadata": {
    "colab": {
     "base_uri": "https://localhost:8080/",
     "height": 373
    },
    "colab_type": "code",
    "id": "J6HuabMv3Lrh",
    "outputId": "25894c84-1c34-4a38-cd2a-e6c3addd97ed"
   },
   "outputs": [
    {
     "name": "stdout",
     "output_type": "stream",
     "text": [
      "<class 'pandas.core.frame.DataFrame'>\n",
      "RangeIndex: 60 entries, 0 to 59\n",
      "Data columns (total 12 columns):\n",
      "Subject_Code      60 non-null object\n",
      "Subject           60 non-null object\n",
      "Country_Code      60 non-null object\n",
      "Country           60 non-null object\n",
      "Measure_Code      60 non-null object\n",
      "Measure           60 non-null object\n",
      "Frequency_Code    60 non-null object\n",
      "Time              60 non-null int64\n",
      "Unit_Code         60 non-null object\n",
      "Unit              60 non-null object\n",
      "PowerCode Code    60 non-null int64\n",
      "Value             60 non-null float64\n",
      "dtypes: float64(1), int64(2), object(9)\n",
      "memory usage: 3.6+ KB\n"
     ]
    }
   ],
   "source": [
    "df_current_EU28.info()"
   ]
  },
  {
   "cell_type": "code",
   "execution_count": 21,
   "metadata": {
    "colab": {
     "base_uri": "https://localhost:8080/",
     "height": 479
    },
    "colab_type": "code",
    "id": "MGUxPltpAONo",
    "outputId": "117c75ed-90fc-41a4-a7f1-27756168389c"
   },
   "outputs": [
    {
     "data": {
      "image/png": "[encoded data removed]",
      "text/plain": [
       "<Figure size 1296x504 with 1 Axes>"
      ]
     },
     "metadata": {
      "needs_background": "light"
     },
     "output_type": "display_data"
    }
   ],
   "source": [
    "#Define function plot_bar to plot all the bars\n",
    "font_black = {'family': 'serif',\n",
    "        'color':  'black',\n",
    "        'weight': 'bold',\n",
    "        'size': 14,\n",
    "        }\n",
    "def plot_bar(x_data,y_data,color,graph_label,x_label,y_label,title,width,rotation=0):\n",
    "    f, ax = plt.subplots(figsize=(18,7))\n",
    "    ax.set_facecolor((.9, .9, .9)) \n",
    "    x_pos = list(range(len(x_data)))\n",
    "    shift=0\n",
    "    for i,y in enumerate(y_data):\n",
    "        plt.bar([x+shift for x in x_pos],y, color=color[i],label=graph_label[i],width=width)\n",
    "        shift = shift+width\n",
    "    plt.xticks([ x+ ( (shift-width)/(i+1)if i>0 else 0) for x in x_pos],x_data,fontsize=10,rotation=rotation);\n",
    "    plt.title(title,fontdict=font_black)\n",
    "    plt.xlabel(x_label,fontdict=font_black)\n",
    "    plt.ylabel(y_label,fontdict=font_black)\n",
    "    plt.axhline(0, color='black')\n",
    "    ax.get_yaxis().set_major_formatter(plt.FuncFormatter(lambda x, loc: \"{:,}\".format(int(x))))\n",
    "    plt.legend();\n",
    "\n",
    "plot_bar(df_current_EU28_balance.Time,[df_current_EU28_balance.Value],['green'],[\"Current Account Balance\"],\\\n",
    "         \"Years\",\"Current Account Balance (Millions USD)\",\"Current Account Balance for EU28\",width=.9)"
   ]
  },
  {
   "cell_type": "markdown",
   "metadata": {
    "colab_type": "text",
    "id": "5BmgjdJU-W-T"
   },
   "source": [
    "In order to fill the data gap between 1990-1998,two techniques could be developed .The first one is to fill it with the aggregated balance of the 28 countries , but since the data for the countries are also not complete , the moving average for the last 4 years will be the technique used to add the missing data."
   ]
  },
  {
   "cell_type": "code",
   "execution_count": 22,
   "metadata": {
    "colab": {},
    "colab_type": "code",
    "id": "CwFPrx0Zfw9V"
   },
   "outputs": [],
   "source": [
    "#Function to calulate the moving average of account values to fill the missing data between 1990-1998\n",
    "def moving_avg(start,end,df,account_code,account_name):\n",
    "    for i in range(end,start,-1):\n",
    "        data = []\n",
    "        average = df.loc[:4,'Value'].mean()\n",
    "        data.insert(0,{'Subject_Code':account_code,'Subject':account_name,'Country_Code':'EU28','Country':'European Union (28 countries)','Measure_Code':'CXCUSA','Measure':'US-Dollar converted, Seasonally adjusted','Frequency_Code':'A','Time':i,'Unit_Code':'USD','Unit':'US Dollar','PowerCode Code':'6','Value':average})\n",
    "        df = pd.concat([pd.DataFrame(data), df], ignore_index=True)\n",
    "    return df\n",
    "\n",
    "df_current_EU28_balance = moving_avg(1989,1998,df_current_EU28_balance,'B6BLTT01','Current account, balance')\n"
   ]
  },
  {
   "cell_type": "markdown",
   "metadata": {
    "colab_type": "text",
    "id": "MZzhyjNuHkVa"
   },
   "source": [
    "The graph shows that the total balance was in negative (deficit) during the period 1990-2011 which indicates that the countires imports(debits) were more than exports(credits).After 2011 ,the graph shows a surplus as credits exceeded debits.\n",
    "\n",
    "In addition to that , The graph shows a sevre deficit happend at \n",
    "2008 which is expected due to the 2008-financial crisis."
   ]
  },
  {
   "cell_type": "code",
   "execution_count": 23,
   "metadata": {
    "colab": {
     "base_uri": "https://localhost:8080/",
     "height": 479
    },
    "colab_type": "code",
    "id": "Ctdvbl0yCioE",
    "outputId": "0de84c97-3f30-4330-abab-300b0cbfc867"
   },
   "outputs": [
    {
     "data": {
      "image/png": "[encoded data removed]",
      "text/plain": [
       "<Figure size 1296x504 with 1 Axes>"
      ]
     },
     "metadata": {
      "needs_background": "light"
     },
     "output_type": "display_data"
    }
   ],
   "source": [
    "#using the pre-defined function to plot the bar after adding missing data 1990-1998\n",
    "plot_bar(df_current_EU28_balance.Time,[df_current_EU28_balance.Value],['green'],[\"Current Account Balance\"],\\\n",
    "         \"Years\",\"Current Account Balance (Millions USD)\",\"Current Account Balance for EU28\",width=.8)"
   ]
  },
  {
   "cell_type": "markdown",
   "metadata": {
    "colab_type": "text",
    "id": "boiEJir23UdU"
   },
   "source": [
    "In order to have a closer look on data distribution, a histogram has been derived from the account balance data. The graph shows that the average value is -46,946 million USD with standard deviation of 152,745.5 million USD , and the most frequent balance (mode) over the period 1990-2018 is around 100,000 Million USD.The maximum account balance was 258,369 Million USD at 2018 while the minimum account balance was -425,841.6 Million USD at 2008."
   ]
  },
  {
   "cell_type": "code",
   "execution_count": 24,
   "metadata": {
    "colab": {
     "base_uri": "https://localhost:8080/",
     "height": 186
    },
    "colab_type": "code",
    "id": "s5jt3Cmt6BPH",
    "outputId": "1fb6068c-5e42-482b-d413-708bcfc90b48"
   },
   "outputs": [
    {
     "data": {
      "text/plain": [
       "count        29.000000\n",
       "mean     -46946.094929\n",
       "std      152745.576123\n",
       "min     -425841.600000\n",
       "25%     -108604.300000\n",
       "50%     -103267.900000\n",
       "75%      -31127.200000\n",
       "max      258369.600000\n",
       "Name: Value, dtype: float64"
      ]
     },
     "execution_count": 24,
     "metadata": {},
     "output_type": "execute_result"
    }
   ],
   "source": [
    "df_current_EU28_balance.Value.describe()"
   ]
  },
  {
   "cell_type": "code",
   "execution_count": 25,
   "metadata": {
    "colab": {
     "base_uri": "https://localhost:8080/",
     "height": 463
    },
    "colab_type": "code",
    "id": "F3xYEiAm-y8V",
    "outputId": "7949aefd-294a-4f08-dfb2-1d2d4467311c"
   },
   "outputs": [
    {
     "data": {
      "image/png": "[encoded data removed]",
      "text/plain": [
       "<Figure size 1008x504 with 1 Axes>"
      ]
     },
     "metadata": {
      "needs_background": "light"
     },
     "output_type": "display_data"
    }
   ],
   "source": [
    "f, ax = plt.subplots(figsize=(14,7));\n",
    "ax.set_facecolor((.9, .9, .9));\n",
    "plt.hist(df_current_EU28_balance.Value, color='green');\n",
    "plt.xlabel(\"Current Account Balance (Millions USD)\",fontdict=font_black);\n",
    "plt.ylabel(\"Frequency\",fontdict=font_black);\n",
    "ax.get_xaxis().set_major_formatter(plt.FuncFormatter(lambda x, loc: \"{:,}\".format(int(x))))\n",
    "plt.title(\"Current Account Balance for EU28 Histogram\",fontdict=font_black);"
   ]
  },
  {
   "cell_type": "markdown",
   "metadata": {
    "colab_type": "text",
    "id": "eebzBcmM622l"
   },
   "source": [
    "**Analysis of Debits(Imports) and Credits(Exports) for EU28**"
   ]
  },
  {
   "cell_type": "markdown",
   "metadata": {
    "colab_type": "text",
    "id": "_3K4Lh2rFaFT"
   },
   "source": [
    "In the following section , current account debits(imports) and credits (exports) for EU28 are analyzed to show how they changed over the period from 1990-2018."
   ]
  },
  {
   "cell_type": "code",
   "execution_count": 26,
   "metadata": {
    "colab": {},
    "colab_type": "code",
    "id": "oMOkOCsbrBpH"
   },
   "outputs": [],
   "source": [
    "#Create two Data Frames for EU28 debits and credits\n",
    "df_current_EU28_debits = df_current_EU28.query('Subject == \"Current account, debits\"')\n",
    "df_current_EU28_credits = df_current_EU28.query('Subject == \"Current account, credits\"')"
   ]
  },
  {
   "cell_type": "code",
   "execution_count": 27,
   "metadata": {
    "colab": {
     "base_uri": "https://localhost:8080/",
     "height": 54
    },
    "colab_type": "code",
    "id": "gQ1bImL17jpf",
    "outputId": "e8674d42-d841-4129-fcad-9b2b70e4c72b"
   },
   "outputs": [
    {
     "name": "stdout",
     "output_type": "stream",
     "text": [
      "Minumim year for debits is 1999 While Minumim year is 2018 \n",
      "Minumim year for credits is 1999 While Minumim year is 2018 \n"
     ]
    }
   ],
   "source": [
    "#The same issue , data is found between 1999-2018 only\n",
    "print(f\"Minumim year for debits is {df_current_EU28_debits.Time.min()} While Minumim year is {df_current_EU28_debits.Time.max()} \")\n",
    "print(f\"Minumim year for credits is {df_current_EU28_credits.Time.min()} While Minumim year is {df_current_EU28_credits.Time.max()} \")"
   ]
  },
  {
   "cell_type": "code",
   "execution_count": 28,
   "metadata": {
    "colab": {},
    "colab_type": "code",
    "id": "dKNGBB9Y9iit"
   },
   "outputs": [],
   "source": [
    "#Use the same function \"moving_avg\" to fill the period 1990-1998 \n",
    "df_current_EU28_debits = moving_avg(1989,1998,df_current_EU28_debits,'B6DBTT01','Current account, debits')\n",
    "df_current_EU28_credits= moving_avg(1989,1998,df_current_EU28_credits,'B6CRTT01','Current account, credits')"
   ]
  },
  {
   "cell_type": "code",
   "execution_count": 29,
   "metadata": {
    "colab": {
     "base_uri": "https://localhost:8080/",
     "height": 54
    },
    "colab_type": "code",
    "id": "H1mxNy9C-OHs",
    "outputId": "85b65e8d-68be-45d6-b520-8e32bfcfbac6"
   },
   "outputs": [
    {
     "name": "stdout",
     "output_type": "stream",
     "text": [
      "Minumim year for debits is 1990 ,While Maximum year is 2018 \n",
      "Minumim year for credits is 1990 ,While Maximum year is 2018 \n"
     ]
    }
   ],
   "source": [
    "print(f\"Minumim year for debits is {df_current_EU28_debits.Time.min()} ,While Maximum year is {df_current_EU28_debits.Time.max()} \")\n",
    "print(f\"Minumim year for credits is {df_current_EU28_credits.Time.min()} ,While Maximum year is {df_current_EU28_credits.Time.max()} \")"
   ]
  },
  {
   "cell_type": "markdown",
   "metadata": {
    "colab_type": "text",
    "id": "lKwnvifdIF_P"
   },
   "source": [
    "The data shows that the trade transactions (both exports and imports) have been grew to more than the double in the period 1990-2018.However exports have been exceeding imports since 2012 producing a surplus. The possible reasons behind the growth could be the new members joined EU or maybe an effect of fixable trade policies between EU countries.\n"
   ]
  },
  {
   "cell_type": "code",
   "execution_count": 30,
   "metadata": {
    "colab": {
     "base_uri": "https://localhost:8080/",
     "height": 479
    },
    "colab_type": "code",
    "id": "Rzxs2dtw-ayM",
    "outputId": "906bc1e9-c77a-4c06-9a1e-693ff76f160d"
   },
   "outputs": [
    {
     "data": {
      "image/png": "[encoded data removed]",
      "text/plain": [
       "<Figure size 1296x504 with 1 Axes>"
      ]
     },
     "metadata": {
      "needs_background": "light"
     },
     "output_type": "display_data"
    }
   ],
   "source": [
    "#using the pre-defined function to plot the bar after adding missing data 1990-1998\n",
    "plot_bar(df_current_EU28_debits.Time,[df_current_EU28_debits.Value,df_current_EU28_credits.Value],['red','green']\\\n",
    "         ,[\"Current Account Debits (Imports)\",\"Current Account Credits (Exports)\"],\"Years\",\\\n",
    "         \"Current Account Debits/Credits (Millions USD)\",\"Current Account Debits/Credits for EU28\"\n",
    "         ,width=0.3)"
   ]
  },
  {
   "cell_type": "markdown",
   "metadata": {
    "colab_type": "text",
    "id": "JEyiQtHihPyn"
   },
   "source": [
    "The next analysis will focus on the average current balance for all the EU countries presented in the dataset (23 countries) between 1990-2018."
   ]
  },
  {
   "cell_type": "code",
   "execution_count": 31,
   "metadata": {
    "colab": {
     "base_uri": "https://localhost:8080/",
     "height": 363
    },
    "colab_type": "code",
    "id": "Q2ZYa6iIdpkl",
    "outputId": "4e00dcbf-ded3-4da1-b6e1-b65da133539b"
   },
   "outputs": [
    {
     "data": {
      "text/html": [
       "<div>\n",
       "<style scoped>\n",
       "    .dataframe tbody tr th:only-of-type {\n",
       "        vertical-align: middle;\n",
       "    }\n",
       "\n",
       "    .dataframe tbody tr th {\n",
       "        vertical-align: top;\n",
       "    }\n",
       "\n",
       "    .dataframe thead th {\n",
       "        text-align: right;\n",
       "    }\n",
       "</style>\n",
       "<table border=\"1\" class=\"dataframe\">\n",
       "  <thead>\n",
       "    <tr style=\"text-align: right;\">\n",
       "      <th></th>\n",
       "      <th>Country</th>\n",
       "      <th>Value</th>\n",
       "    </tr>\n",
       "  </thead>\n",
       "  <tbody>\n",
       "    <tr>\n",
       "      <td>7</td>\n",
       "      <td>Germany</td>\n",
       "      <td>116525.666036</td>\n",
       "    </tr>\n",
       "    <tr>\n",
       "      <td>15</td>\n",
       "      <td>Netherlands</td>\n",
       "      <td>66783.074667</td>\n",
       "    </tr>\n",
       "    <tr>\n",
       "      <td>3</td>\n",
       "      <td>Denmark</td>\n",
       "      <td>19210.661929</td>\n",
       "    </tr>\n",
       "    <tr>\n",
       "      <td>21</td>\n",
       "      <td>Sweden</td>\n",
       "      <td>16651.617621</td>\n",
       "    </tr>\n",
       "    <tr>\n",
       "      <td>0</td>\n",
       "      <td>Austria</td>\n",
       "      <td>5186.530083</td>\n",
       "    </tr>\n",
       "    <tr>\n",
       "      <td>1</td>\n",
       "      <td>Belgium</td>\n",
       "      <td>4086.320975</td>\n",
       "    </tr>\n",
       "    <tr>\n",
       "      <td>5</td>\n",
       "      <td>Finland</td>\n",
       "      <td>3813.886125</td>\n",
       "    </tr>\n",
       "    <tr>\n",
       "      <td>14</td>\n",
       "      <td>Luxembourg</td>\n",
       "      <td>3065.587333</td>\n",
       "    </tr>\n",
       "    <tr>\n",
       "      <td>11</td>\n",
       "      <td>Italy</td>\n",
       "      <td>1402.105833</td>\n",
       "    </tr>\n",
       "    <tr>\n",
       "      <td>19</td>\n",
       "      <td>Slovenia</td>\n",
       "      <td>184.818665</td>\n",
       "    </tr>\n",
       "  </tbody>\n",
       "</table>\n",
       "</div>"
      ],
      "text/plain": [
       "        Country          Value\n",
       "7       Germany  116525.666036\n",
       "15  Netherlands   66783.074667\n",
       "3       Denmark   19210.661929\n",
       "21       Sweden   16651.617621\n",
       "0       Austria    5186.530083\n",
       "1       Belgium    4086.320975\n",
       "5       Finland    3813.886125\n",
       "14   Luxembourg    3065.587333\n",
       "11        Italy    1402.105833\n",
       "19     Slovenia     184.818665"
      ]
     },
     "execution_count": 31,
     "metadata": {},
     "output_type": "execute_result"
    }
   ],
   "source": [
    "#Dataframe of Avergae Current Balance by Country in the period 1990-2018\n",
    "df_current_EU_countires_balance_mean = df_current_EU_countires_balance.groupby(['Country'],as_index=False)['Value'].mean()\n",
    "df_current_EU_countires_balance_mean.sort_values(by='Value',ascending=False).query('Value>0')"
   ]
  },
  {
   "cell_type": "code",
   "execution_count": 32,
   "metadata": {
    "colab": {
     "base_uri": "https://localhost:8080/",
     "height": 457
    },
    "colab_type": "code",
    "id": "9y6EzQLihi8z",
    "outputId": "458933e7-8a9c-41ad-b500-0f6209b6d841"
   },
   "outputs": [
    {
     "data": {
      "text/html": [
       "<div>\n",
       "<style scoped>\n",
       "    .dataframe tbody tr th:only-of-type {\n",
       "        vertical-align: middle;\n",
       "    }\n",
       "\n",
       "    .dataframe tbody tr th {\n",
       "        vertical-align: top;\n",
       "    }\n",
       "\n",
       "    .dataframe thead th {\n",
       "        text-align: right;\n",
       "    }\n",
       "</style>\n",
       "<table border=\"1\" class=\"dataframe\">\n",
       "  <thead>\n",
       "    <tr style=\"text-align: right;\">\n",
       "      <th></th>\n",
       "      <th>Country</th>\n",
       "      <th>Value</th>\n",
       "    </tr>\n",
       "  </thead>\n",
       "  <tbody>\n",
       "    <tr>\n",
       "      <td>4</td>\n",
       "      <td>Estonia</td>\n",
       "      <td>-475.859274</td>\n",
       "    </tr>\n",
       "    <tr>\n",
       "      <td>12</td>\n",
       "      <td>Latvia</td>\n",
       "      <td>-1122.099289</td>\n",
       "    </tr>\n",
       "    <tr>\n",
       "      <td>13</td>\n",
       "      <td>Lithuania</td>\n",
       "      <td>-1297.841347</td>\n",
       "    </tr>\n",
       "    <tr>\n",
       "      <td>10</td>\n",
       "      <td>Ireland</td>\n",
       "      <td>-2132.958671</td>\n",
       "    </tr>\n",
       "    <tr>\n",
       "      <td>9</td>\n",
       "      <td>Hungary</td>\n",
       "      <td>-2447.875035</td>\n",
       "    </tr>\n",
       "    <tr>\n",
       "      <td>2</td>\n",
       "      <td>Czech Republic</td>\n",
       "      <td>-2500.976869</td>\n",
       "    </tr>\n",
       "    <tr>\n",
       "      <td>18</td>\n",
       "      <td>Slovak Republic</td>\n",
       "      <td>-2597.929913</td>\n",
       "    </tr>\n",
       "    <tr>\n",
       "      <td>6</td>\n",
       "      <td>France</td>\n",
       "      <td>-3218.202300</td>\n",
       "    </tr>\n",
       "    <tr>\n",
       "      <td>17</td>\n",
       "      <td>Portugal</td>\n",
       "      <td>-10758.155887</td>\n",
       "    </tr>\n",
       "    <tr>\n",
       "      <td>16</td>\n",
       "      <td>Poland</td>\n",
       "      <td>-14422.494687</td>\n",
       "    </tr>\n",
       "    <tr>\n",
       "      <td>8</td>\n",
       "      <td>Greece</td>\n",
       "      <td>-19155.733000</td>\n",
       "    </tr>\n",
       "    <tr>\n",
       "      <td>20</td>\n",
       "      <td>Spain</td>\n",
       "      <td>-26829.123577</td>\n",
       "    </tr>\n",
       "    <tr>\n",
       "      <td>22</td>\n",
       "      <td>United Kingdom</td>\n",
       "      <td>-61024.387690</td>\n",
       "    </tr>\n",
       "  </tbody>\n",
       "</table>\n",
       "</div>"
      ],
      "text/plain": [
       "            Country         Value\n",
       "4           Estonia   -475.859274\n",
       "12           Latvia  -1122.099289\n",
       "13        Lithuania  -1297.841347\n",
       "10          Ireland  -2132.958671\n",
       "9           Hungary  -2447.875035\n",
       "2    Czech Republic  -2500.976869\n",
       "18  Slovak Republic  -2597.929913\n",
       "6            France  -3218.202300\n",
       "17         Portugal -10758.155887\n",
       "16           Poland -14422.494687\n",
       "8            Greece -19155.733000\n",
       "20            Spain -26829.123577\n",
       "22   United Kingdom -61024.387690"
      ]
     },
     "execution_count": 32,
     "metadata": {},
     "output_type": "execute_result"
    }
   ],
   "source": [
    "df_current_EU_countires_balance_mean.sort_values(by='Value',ascending=False).query('Value<0')"
   ]
  },
  {
   "cell_type": "markdown",
   "metadata": {
    "colab_type": "text",
    "id": "sDak2fX7hr2Y"
   },
   "source": [
    "The data shows that only 10 countries have a a positive balance which means that exports exceed imports.Thoese countries are:\n",
    "\n",
    "1.Germany\n",
    "\n",
    "2.Netherlands\n",
    "\n",
    "3.Denmark\n",
    "\n",
    "4.Sweden\n",
    "\n",
    "5.Austria\n",
    "\n",
    "6.Belgium\n",
    "\n",
    "7.Finland\n",
    "\n",
    "8.Luxembourg\n",
    "\n",
    "9.Italy\n",
    "\n",
    "10.Slovenia\n",
    "\n",
    "On the other side ,United Kingdom comes at the last position with 61,024.38 million USD of deficit which could be one of the reason behind the Brexit in 2020."
   ]
  },
  {
   "cell_type": "code",
   "execution_count": 33,
   "metadata": {
    "colab": {
     "base_uri": "https://localhost:8080/",
     "height": 534
    },
    "colab_type": "code",
    "id": "m2pFY6zbdz0f",
    "outputId": "4e25cd32-3c74-4586-d914-a51c63869137"
   },
   "outputs": [
    {
     "data": {
      "image/png": "[encoded data removed]",
      "text/plain": [
       "<Figure size 1296x504 with 1 Axes>"
      ]
     },
     "metadata": {
      "needs_background": "light"
     },
     "output_type": "display_data"
    }
   ],
   "source": [
    "plot_bar(df_current_EU_countires_balance_mean.Country,[df_current_EU_countires_balance_mean.Value],['green']\\\n",
    "         ,[\"Average Current Account Balance\"],\"Years\",\\\n",
    "         \"Average Current Account Balace (Millions USD)\",\"Average Current Account Balance for EU Countires between 1990-2018\"\n",
    "         ,width=0.5,rotation=90)"
   ]
  }
 ],
 "metadata": {
  "colab": {
   "collapsed_sections": [],
   "name": "Untitled0.ipynb",
   "provenance": []
  },
  "kernelspec": {
   "display_name": "Python 3",
   "language": "python",
   "name": "python3"
  },
  "language_info": {
   "codemirror_mode": {
    "name": "ipython",
    "version": 3
   },
   "file_extension": ".py",
   "mimetype": "text/x-python",
   "name": "python",
   "nbconvert_exporter": "python",
   "pygments_lexer": "ipython3",
   "version": "3.7.4"
  }
 },
 "nbformat": 4,
 "nbformat_minor": 1
}
